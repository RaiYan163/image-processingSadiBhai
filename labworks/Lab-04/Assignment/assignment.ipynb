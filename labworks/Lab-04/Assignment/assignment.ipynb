{
 "cells": [
  {
   "cell_type": "code",
   "execution_count": 47,
   "metadata": {},
   "outputs": [],
   "source": [
    "import numpy as np\n",
    "import cv2 as cv\n",
    "import matplotlib.pyplot as plt\n",
    "import math"
   ]
  },
  {
   "cell_type": "code",
   "execution_count": 48,
   "metadata": {},
   "outputs": [],
   "source": [
    "img = cv.imread('./lena.jpg', cv.IMREAD_GRAYSCALE)\n",
    "cv.imshow(\"Input\", img)\n",
    "cv.waitKey(0)\n",
    "cv.destroyAllWindows()"
   ]
  },
  {
   "cell_type": "code",
   "execution_count": 49,
   "metadata": {},
   "outputs": [],
   "source": [
    "def IlluminationPatternGenerator(img, x, y, sigma):\n",
    "    pattern = np.zeros_like(img, np.float32)\n",
    "    for i in range (x):\n",
    "        for j in range (y):\n",
    "            constant = 2 * math.pi * (sigma ** 2)\n",
    "            result = -(i * i + j * j)\n",
    "            result /= 2 * (sigma ** 2)\n",
    "            numerator = math.exp(result)\n",
    "            pattern[i, j] = numerator / constant\n",
    "    return pattern"
   ]
  },
  {
   "cell_type": "code",
   "execution_count": 50,
   "metadata": {},
   "outputs": [],
   "source": [
    "pattern1 = IlluminationPatternGenerator(img, 400, 400, 100)\n",
    "pattern2 = IlluminationPatternGenerator(img, 500, 500, 85)\n",
    "\n",
    "pattern2 = np.flip(pattern2, 0)\n",
    "pattern2 = np.flip(pattern2, 1)\n",
    "\n",
    "pattern = pattern1 + pattern2\n",
    "pattern = cv.normalize(pattern, None, 0, 255, cv.NORM_MINMAX)\n",
    "pattern = pattern.astype(np.uint8)\n",
    "\n",
    "cv.imshow(\"Pattern\", pattern)\n",
    "cv.waitKey(0)\n",
    "cv.destroyAllWindows()"
   ]
  },
  {
   "cell_type": "code",
   "execution_count": 51,
   "metadata": {},
   "outputs": [],
   "source": [
    "def min_max_normalize(img_inp):\n",
    "    inp_min = np.min(img_inp)\n",
    "    inp_max = np.max(img_inp)\n",
    "\n",
    "    for i in range (img_inp.shape[0]):\n",
    "        for j in range(img_inp.shape[1]):\n",
    "            img_inp[i][j] = (((img_inp[i][j]-inp_min)/(inp_max-inp_min))*255)\n",
    "    return np.array(img_inp, dtype='uint8')"
   ]
  },
  {
   "cell_type": "code",
   "execution_count": 52,
   "metadata": {},
   "outputs": [],
   "source": [
    "img = img.astype(np.uint32)\n",
    "corrupted_img = img + pattern\n",
    "corrupted_img = corrupted_img.astype(np.float32)\n",
    "corrupted_img = cv.normalize(corrupted_img, None, 0, 255, cv.NORM_MINMAX)\n",
    "corrupted_img = corrupted_img.astype(np.uint8)\n",
    "\n",
    "# img = img.astype(np.uint8)\n",
    "# corrupted_img = cv.add(img, pattern)\n",
    "\n",
    "cv.imshow(\"Corrupted Image\", corrupted_img)\n",
    "cv.imwrite(\"./CorruptedImage.jpg\", corrupted_img)\n",
    "cv.waitKey(0)\n",
    "cv.destroyAllWindows()"
   ]
  },
  {
   "cell_type": "code",
   "execution_count": 53,
   "metadata": {},
   "outputs": [],
   "source": [
    "def HomomorphicFilter():\n",
    "    gh = 1.2\n",
    "    gl = 0.5\n",
    "    c = 7\n",
    "    D0 = 8\n",
    "    M = img.shape[0]\n",
    "    N = img.shape[1]\n",
    "    kernel = np.zeros(img.shape)\n",
    "    for i in range (M):\n",
    "        for j in range (N):\n",
    "            dk = np.sqrt((i - M // 2) ** 2 + (j - N // 2) ** 2)\n",
    "            power = -c * ((dk ** 2) / (D0 ** 2))\n",
    "            kernel[i, j] = (gh - gl) * (1 - np.exp(power)) + gl\n",
    "    return kernel"
   ]
  },
  {
   "cell_type": "code",
   "execution_count": 54,
   "metadata": {},
   "outputs": [],
   "source": [
    "kernel = HomomorphicFilter()\n",
    "ft = np.fft.fft2(corrupted_img)\n",
    "ft_shift = np.fft.fftshift(ft)\n",
    "\n",
    "magnitude_spectrum_ac = np.abs(ft_shift)\n",
    "magnitude_spectrum = 20 * np.log(np.abs(ft_shift))\n",
    "magnitude_spectrum_scaled = min_max_normalize(magnitude_spectrum)\n",
    "\n",
    "ang = np.angle(ft_shift)\n",
    "output = np.multiply(magnitude_spectrum_ac * kernel, np.exp(1j * ang))\n",
    "\n",
    "img_back = np.real(np.fft.ifft2(np.fft.ifftshift(output)))\n",
    "img_back_scaled = min_max_normalize(img_back)\n",
    "\n",
    "cv.imshow(\"Homomorphic Filtered Image\", img_back_scaled)\n",
    "cv.imwrite(\"./HomomorphicFilteredImage.jpg\", img_back_scaled)\n",
    "\n",
    "cv.waitKey(0)\n",
    "cv.destroyAllWindows()"
   ]
  }
 ],
 "metadata": {
  "kernelspec": {
   "display_name": "base",
   "language": "python",
   "name": "python3"
  },
  "language_info": {
   "codemirror_mode": {
    "name": "ipython",
    "version": 3
   },
   "file_extension": ".py",
   "mimetype": "text/x-python",
   "name": "python",
   "nbconvert_exporter": "python",
   "pygments_lexer": "ipython3",
   "version": "3.9.13"
  },
  "orig_nbformat": 4
 },
 "nbformat": 4,
 "nbformat_minor": 2
}
